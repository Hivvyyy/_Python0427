{
 "cells": [
  {
   "cell_type": "code",
   "execution_count": 2,
   "metadata": {},
   "outputs": [
    {
     "name": "stdout",
     "output_type": "stream",
     "text": [
      "小於60\n"
     ]
    }
   ],
   "source": [
    "scores = 45\n",
    "\n",
    "if scores < 60:\n",
    "   print(\"小於60\")\n",
    "\n",
    "\n",
    "else:\n",
    "   if scores < 80:\n",
    "      print(\"大於等於60\")\n",
    "      print(\"小於80\")\n",
    "\n",
    "   else:\n",
    "      print(\"大於等於80\")\n"
   ]
  },
  {
   "cell_type": "code",
   "execution_count": null,
   "metadata": {},
   "outputs": [],
   "source": [
    "\n",
    "#未完成\n",
    "\n",
    "#else + if = elif\n",
    "\n",
    "\n",
    "scores = 89\n",
    "\n",
    "if scores < 60:\n",
    "   print(\"小於60\")\n",
    "\n",
    "\n",
    "elif scores < 80:\n",
    "#else + if = elif \n",
    "\n",
    "      print(\"大於等於60\")\n",
    "      print(\"小於80\")\n",
    "\n",
    "else:\n",
    "      print(\"大於等於80\")"
   ]
  },
  {
   "cell_type": "code",
   "execution_count": 3,
   "metadata": {},
   "outputs": [
    {
     "name": "stdout",
     "output_type": "stream",
     "text": [
      "目前學生分數 300\n",
      "應用程式結束\n"
     ]
    }
   ],
   "source": [
    "#進階寫法-未完成（練習）\n",
    "\n",
    "\n",
    "try:\n",
    "#第一道防線，確認輸入的數值是否成立\n",
    "    scores = int(input(\"請輸入學生分數\"))\n",
    "\n",
    "    if scores <= 300 and scores>= 0:\n",
    "        is_add = input(\"學生分數是否符合加分條件（Y / N)\")\n",
    "\n",
    "        if is_add == 'Y':\n",
    "            scores *= 1.05\n",
    "            if scores >300:\n",
    "                scores = 300\n",
    "\n",
    "        print(\"目前學生分數\",round(scores))\n",
    "\n",
    "    else:\n",
    "        print(\"輸入分數超過300\")\n",
    "\n",
    "except:\n",
    "#若輸入數值條件不成立，則執行此行程式碼\n",
    "    print(\"輸入格式錯誤\")\n",
    "\n",
    "print(\"應用程式結束\")\n"
   ]
  },
  {
   "cell_type": "code",
   "execution_count": 1,
   "metadata": {},
   "outputs": [],
   "source": [
    "name = input('name')"
   ]
  }
 ],
 "metadata": {
  "kernelspec": {
   "display_name": "Python 3",
   "language": "python",
   "name": "python3"
  },
  "language_info": {
   "codemirror_mode": {
    "name": "ipython",
    "version": 3
   },
   "file_extension": ".py",
   "mimetype": "text/x-python",
   "name": "python",
   "nbconvert_exporter": "python",
   "pygments_lexer": "ipython3",
   "version": "3.10.14"
  }
 },
 "nbformat": 4,
 "nbformat_minor": 2
}
