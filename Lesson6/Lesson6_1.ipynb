{
 "cells": [
  {
   "cell_type": "code",
   "execution_count": 1,
   "metadata": {},
   "outputs": [
    {
     "data": {
      "text/plain": [
       "True"
      ]
     },
     "execution_count": 1,
     "metadata": {},
     "output_type": "execute_result"
    }
   ],
   "source": [
    "5>3"
   ]
  },
  {
   "cell_type": "code",
   "execution_count": 2,
   "metadata": {},
   "outputs": [
    {
     "data": {
      "text/plain": [
       "False"
      ]
     },
     "execution_count": 2,
     "metadata": {},
     "output_type": "execute_result"
    }
   ],
   "source": [
    "5 != 5"
   ]
  },
  {
   "cell_type": "code",
   "execution_count": 3,
   "metadata": {},
   "outputs": [
    {
     "data": {
      "text/plain": [
       "False"
      ]
     },
     "execution_count": 3,
     "metadata": {},
     "output_type": "execute_result"
    }
   ],
   "source": [
    "5 >5"
   ]
  },
  {
   "cell_type": "code",
   "execution_count": 4,
   "metadata": {},
   "outputs": [
    {
     "data": {
      "text/plain": [
       "True"
      ]
     },
     "execution_count": 4,
     "metadata": {},
     "output_type": "execute_result"
    }
   ],
   "source": [
    "5 == 5"
   ]
  },
  {
   "cell_type": "code",
   "execution_count": 6,
   "metadata": {},
   "outputs": [
    {
     "name": "stdout",
     "output_type": "stream",
     "text": [
      "可以投票\n",
      "可以考駕照\n",
      "應用程式結束\n"
     ]
    }
   ],
   "source": [
    "age = 19\n",
    "if age >= 18:\n",
    "    print(\"可以投票\")\n",
    "    print(\"可以考駕照\")\n",
    "print(\"應用程式結束\")"
   ]
  },
  {
   "cell_type": "code",
   "execution_count": 8,
   "metadata": {},
   "outputs": [
    {
     "name": "stdout",
     "output_type": "stream",
     "text": [
      "不可以投票\n",
      "不可以考駕照\n",
      "應用程式結束\n"
     ]
    }
   ],
   "source": [
    "#判斷數值\n",
    "age = 16\n",
    "\n",
    "#若符合以下條件\n",
    "if age >= 18:\n",
    "\n",
    "    #顯示結果\n",
    "    print(\"可以投票\")\n",
    "    print(\"可以考駕照\")\n",
    "\n",
    "#若條件不符合則顯示以下結果   \n",
    "else:\n",
    "    print(\"不可以投票\")\n",
    "    print(\"不可以考駕照\")\n",
    "\n",
    "\n",
    "print(\"應用程式結束\")"
   ]
  },
  {
   "cell_type": "code",
   "execution_count": 13,
   "metadata": {},
   "outputs": [
    {
     "name": "stdout",
     "output_type": "stream",
     "text": [
      "目前學生分數 240\n"
     ]
    }
   ],
   "source": [
    "scores = int(input(\"請輸入學生分數（最高300）:\"))\n",
    "is_add = input(\"學生分數是否符合加分條件(Y/ N)\")\n",
    "\n",
    "if is_add == 'Y':\n",
    "    #scores = scores *1.05 (以下為合併程式碼呈現)\n",
    "    scores *= 1.05\n",
    "\n",
    "print(\"目前學生分數\",round(scores))\n",
    "\n",
    "#round 數值四捨五入\n"
   ]
  },
  {
   "cell_type": "code",
   "execution_count": 16,
   "metadata": {},
   "outputs": [
    {
     "name": "stdout",
     "output_type": "stream",
     "text": [
      "目前學生分數 252\n"
     ]
    }
   ],
   "source": [
    "scores = int(input(\"請輸入學生分數\"))\n",
    "is_add = input(\"學生分數是否符合加分條件( Y / N )\")\n",
    "\n",
    "if is_add == 'Y':\n",
    "    #scores = scores *1.05 (以下為合併程式碼呈現)\n",
    "    scores *= 1.05\n",
    "    \n",
    "    #巢狀條件判斷（若加分後總分超過300則以300分計算）\n",
    "    if scores > 300:\n",
    "        scores = 300\n",
    "\n",
    "print(\"目前學生分數\",round(scores))\n",
    "\n",
    "\n"
   ]
  },
  {
   "cell_type": "code",
   "execution_count": 18,
   "metadata": {},
   "outputs": [
    {
     "name": "stdout",
     "output_type": "stream",
     "text": [
      "輸入分數超過300\n"
     ]
    }
   ],
   "source": [
    "scores = int(input(\"請輸入學生分數\"))\n",
    "#優先判斷輸入分數是否<=300，條件成立則執行以下程式碼\n",
    "if scores <= 300:\n",
    "    is_add = input(\"學生分數是否符合加分條件(Y / N )\")\n",
    "\n",
    "    if is_add == 'Y':\n",
    "        scores *= 1.05\n",
    "        if scores >300:\n",
    "            scores = 300\n",
    "\n",
    "    print(\"目前學生分數\",round(scores))\n",
    "\n",
    "\n",
    "else:\n",
    "#若輸入分數大於300，則執行以下程式碼\n",
    "\n",
    "    print(\"輸入分數超過300\")\n"
   ]
  },
  {
   "cell_type": "code",
   "execution_count": 25,
   "metadata": {},
   "outputs": [
    {
     "name": "stdout",
     "output_type": "stream",
     "text": [
      "輸入分數超過300\n",
      "應用程式結束\n"
     ]
    }
   ],
   "source": [
    "#基礎\n",
    "\n",
    "\n",
    "\n",
    "#try / except / else 以預防出現 raise error(程式閃退)\n",
    "\n",
    "try:\n",
    "#第一道防線，確認輸入的數值是否成立\n",
    "    scores = int(input(\"請輸入學生分數\"))\n",
    "\n",
    "except:\n",
    "#若輸入數值條件不成立，則執行此行程式碼\n",
    "    print(\"輸入格式錯誤\")\n",
    "\n",
    "else:\n",
    "#若輸入數值條件成立，則執行以下程式碼\n",
    "    if scores <= 300:\n",
    "        is_add = input(\"學生分數是否符合加分條件（Y / N)\")\n",
    "\n",
    "        if is_add == 'Y':\n",
    "            scores *= 1.05\n",
    "            if scores >300:\n",
    "                scores = 300\n",
    "\n",
    "        print(\"目前學生分數\",round(scores))\n",
    "\n",
    "    else:\n",
    "        print(\"輸入分數超過300\")\n",
    "\n",
    "print(\"應用程式結束\")\n",
    "\n"
   ]
  },
  {
   "cell_type": "code",
   "execution_count": null,
   "metadata": {},
   "outputs": [],
   "source": [
    "#進階 -未完成(練習)\n",
    "#使用 not\n",
    "\n",
    "\n",
    "try:\n",
    "#第一道防線，確認輸入的數值是否成立\n",
    "    scores = int(input(\"請輸入學生分數(最高300):\"))\n",
    "\n",
    "except:\n",
    "#若輸入數值條件不成立，則執行此行程式碼\n",
    "    print(\"輸入格式錯誤\")\n",
    "\n",
    "else:\n",
    "#若輸入數值條件成立，則執行以下程式碼\n",
    "    if  not (scores <= 300 and scores >= 0):\n",
    "        print(\"輸入分數超過300或小於0\")\n",
    "\n",
    "    else:\n",
    "            \n",
    "        is_add = input(\"學生分數是否符合加分條件（Y / N)\")\n",
    "\n",
    "        if is_add == 'Y':\n",
    "            scores *= 1.05\n",
    "            if scores >300:\n",
    "                scores = 300\n",
    "\n",
    "        print(\"目前學生分數\",round(scores))\n",
    "\n",
    "    else:\n",
    "        print(\"輸入分數超過300\")\n",
    "\n",
    "print(\"應用程式結束\")"
   ]
  },
  {
   "cell_type": "code",
   "execution_count": 26,
   "metadata": {},
   "outputs": [
    {
     "name": "stdout",
     "output_type": "stream",
     "text": [
      "分數60至79分\n"
     ]
    }
   ],
   "source": [
    "#分數區間判斷方法(基礎)\n",
    "\n",
    "scores = 75\n",
    "\n",
    "#若判斷數值為連續區間，則使用巢狀條件判斷\n",
    "if scores >= 60:\n",
    "    if scores <80:\n",
    "        print(\"分數60至79分\")"
   ]
  },
  {
   "cell_type": "code",
   "execution_count": null,
   "metadata": {},
   "outputs": [],
   "source": [
    "#分數區間判斷方法(進階)\n",
    "#使用 and  #使用 and(必續同時滿足前後條件程式才成立)\n",
    "\n",
    "scores = 75\n",
    "\n",
    "if scores >= 60 and scores < 80:\n",
    "    #使用 and 連結兩個條件\n",
    "    \n",
    "    print(\"分數60至79分\")"
   ]
  },
  {
   "cell_type": "code",
   "execution_count": 28,
   "metadata": {},
   "outputs": [
    {
     "name": "stdout",
     "output_type": "stream",
     "text": [
      "分數大於等於80\n"
     ]
    }
   ],
   "source": [
    "#需判斷兩個分開的分數區間(基礎)\n",
    "\n",
    "scores = 90\n",
    "\n",
    "#若判斷數值為分開的區間，則條件判斷必須分開寫\n",
    "if scores <60:\n",
    "    print(\"分數小於60\")\n",
    "\n",
    "if scores >= 80:\n",
    "    print(\"分數大於等於80\")\n"
   ]
  },
  {
   "cell_type": "code",
   "execution_count": null,
   "metadata": {},
   "outputs": [],
   "source": [
    "#需判斷兩個分開的分數區間(進階)\n",
    "#使用 or 只需滿足其中一個條件\n",
    "\n",
    "scores = 90\n",
    "\n",
    "if scores <60 or scores >= 80:\n",
    "    print(\"分數小於60或者大於等於80\")\n",
    "\n"
   ]
  }
 ],
 "metadata": {
  "kernelspec": {
   "display_name": "Python 3",
   "language": "python",
   "name": "python3"
  },
  "language_info": {
   "codemirror_mode": {
    "name": "ipython",
    "version": 3
   },
   "file_extension": ".py",
   "mimetype": "text/x-python",
   "name": "python",
   "nbconvert_exporter": "python",
   "pygments_lexer": "ipython3",
   "version": "3.10.14"
  }
 },
 "nbformat": 4,
 "nbformat_minor": 2
}
