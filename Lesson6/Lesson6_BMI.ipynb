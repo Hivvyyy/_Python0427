{
 "cells": [
  {
   "cell_type": "code",
   "execution_count": 53,
   "metadata": {},
   "outputs": [
    {
     "name": "stdout",
     "output_type": "stream",
     "text": [
      "Hello ivy\n",
      "您的BMI值為： 17.42\n",
      "『體重過輕』需均衡飲食，補充營養！\n",
      "----END----\n"
     ]
    }
   ],
   "source": [
    "#BMI\n",
    "\n",
    "\n",
    "     \n",
    "name = str(input('請輸入您的姓名'))\n",
    "print('Hello',name)\n",
    "height = float(input('請輸入您的身高(cm)'))\n",
    "weight = float(input('請輸入您的體重(kg)'))\n",
    "\n",
    "\n",
    "BMI = weight / ((height/100) ** 2)\n",
    "\n",
    "try:\n",
    "    \n",
    "    if height <=0 or height <220 or weight <=0 or weight <200 :\n",
    "     \n",
    "        print('您的BMI值為：',round(BMI,2))\n",
    "\n",
    "        if BMI < 18.5:\n",
    "            print('『體重過輕』需均衡飲食，補充營養！')\n",
    "\n",
    "        elif BMI >= 18.5 and BMI < 24 :\n",
    "            print('『健康體重』優秀，請繼續保持！')\n",
    "\n",
    "        elif BMI >= 24 and BMI < 27 :\n",
    "            print('『體重過重』請開始實施健康管理計畫囉！')\n",
    "\n",
    "        elif BMI >= 27 and BMI < 30:\n",
    "            print('『輕度肥胖』')\n",
    "\n",
    "        elif BMI >= 30 and BMI < 35:\n",
    "            print('『中度肥胖』')\n",
    "\n",
    "        elif BMI >= 35 :\n",
    "            print('『重度肥胖』')\n",
    "    \n",
    "    else:\n",
    "        print('請輸入正確的身高/體重')\n",
    "\n",
    "except:\n",
    "        print('格式錯誤')\n",
    "\n",
    "\n",
    "print(\"----END----\")\n",
    "\n",
    "\n"
   ]
  }
 ],
 "metadata": {
  "kernelspec": {
   "display_name": "Python 3",
   "language": "python",
   "name": "python3"
  },
  "language_info": {
   "codemirror_mode": {
    "name": "ipython",
    "version": 3
   },
   "file_extension": ".py",
   "mimetype": "text/x-python",
   "name": "python",
   "nbconvert_exporter": "python",
   "pygments_lexer": "ipython3",
   "version": "2.7.undefined"
  }
 },
 "nbformat": 4,
 "nbformat_minor": 2
}
