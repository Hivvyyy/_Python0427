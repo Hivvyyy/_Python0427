{
 "cells": [
  {
   "cell_type": "code",
   "execution_count": 1,
   "metadata": {},
   "outputs": [
    {
     "name": "stdout",
     "output_type": "stream",
     "text": [
      "Hello Ivy\n",
      "您的BMI值為： 17.42\n",
      "『體重過輕』需均衡飲食，補充營養！\n",
      "----END----\n"
     ]
    }
   ],
   "source": [
    "#BMI\n",
    "\n",
    "\n",
    "     \n",
    "name = str(input('請輸入您的姓名'))\n",
    "print('Hello',name)\n",
    "height = float(input('請輸入您的身高(cm)'))\n",
    "weight = float(input('請輸入您的體重(kg)'))\n",
    "\n",
    "\n",
    "BMI = weight / ((height/100) ** 2)\n",
    "\n",
    "try:\n",
    "    \n",
    "    if height <=0 or height <220 or weight <=0 or weight <200 :\n",
    "     \n",
    "        print('您的BMI值為：',round(BMI,2))\n",
    "\n",
    "        if BMI < 18.5:\n",
    "            print('『體重過輕』需均衡飲食，補充營養！')\n",
    "\n",
    "        elif BMI >= 18.5 and BMI < 24 :\n",
    "            print('『健康體重』優秀，請繼續保持！')\n",
    "\n",
    "        elif BMI >= 24 and BMI < 27 :\n",
    "            print('『體重過重』請開始實施健康管理計畫囉！')\n",
    "\n",
    "        elif BMI >= 27 and BMI < 30:\n",
    "            print('『輕度肥胖』')\n",
    "\n",
    "        elif BMI >= 30 and BMI < 35:\n",
    "            print('『中度肥胖』')\n",
    "\n",
    "        elif BMI >= 35 :\n",
    "            print('『重度肥胖』')\n",
    "    \n",
    "    else:\n",
    "        print('請輸入正確的身高/體重')\n",
    "\n",
    "except:\n",
    "        print('格式錯誤')\n",
    "\n",
    "\n",
    "print(\"----END----\")"
   ]
  },
  {
   "cell_type": "code",
   "execution_count": 47,
   "metadata": {},
   "outputs": [
    {
     "name": "stdout",
     "output_type": "stream",
     "text": [
      "Ivy 您好！,BMI: 17.4,體重:『體重過輕』需均衡飲食，補充營養！\n"
     ]
    }
   ],
   "source": [
    "from dataclasses import dataclass\n",
    "\n",
    "@dataclass\n",
    "class BMI:\n",
    "    \n",
    "    name: str\n",
    "    height: float\n",
    "    weight: float\n",
    "    \n",
    "    def __init__(self):\n",
    "        try:\n",
    "            self.name = input('請輸入您的姓名:')\n",
    "            self.height = float(input('請輸入您的身高(cm):'))\n",
    "            self.weight = float(input('請輸入您的體重(kg):'))\n",
    "            if self.height <= 0 or self.height >= 220 or self.weight <= 0 or self.weight >= 200:\n",
    "                raise ValueError\n",
    "        except ValueError:\n",
    "            print('請輸入正確的身高/體重')\n",
    "            raise\n",
    "        else:\n",
    "            self.calculate_BMI()\n",
    "\n",
    "    def calculate_BMI(self):\n",
    "        bmi_result = round(self.weight / ((self.height / 100) ** 2), 1)\n",
    "        bmi_txt = self.get_BMI_txt(bmi_result)\n",
    "        print(f\"{self.name} 您好！,BMI: {bmi_result},體重:{bmi_txt}\")  \n",
    "    \n",
    "    def get_BMI_txt(self, bmi_result: float) -> str:\n",
    "        if bmi_result < 18.5:\n",
    "            return \"『體重過輕』需均衡飲食，補充營養！\"\n",
    "        elif 18.5 <= bmi_result < 24:\n",
    "            return \"『健康體重』優秀，請繼續保持!\"\n",
    "        elif 24 <= bmi_result < 27:\n",
    "            return \"『體重過重』請開始實施健康管理計畫囉！\"\n",
    "        elif 27 <= bmi_result < 30:\n",
    "            return \"『輕度肥胖』\"\n",
    "        elif 30 <= bmi_result < 35:\n",
    "            return \"『中度肥胖』\"\n",
    "        else:\n",
    "            return \"『重度肥胖』\"\n",
    "        \n",
    "\n",
    "bmi_instance = BMI()\n",
    "\n",
    "\n",
    "\n"
   ]
  }
 ],
 "metadata": {
  "kernelspec": {
   "display_name": "Python 3",
   "language": "python",
   "name": "python3"
  },
  "language_info": {
   "codemirror_mode": {
    "name": "ipython",
    "version": 3
   },
   "file_extension": ".py",
   "mimetype": "text/x-python",
   "name": "python",
   "nbconvert_exporter": "python",
   "pygments_lexer": "ipython3",
   "version": "3.10.11"
  }
 },
 "nbformat": 4,
 "nbformat_minor": 2
}
