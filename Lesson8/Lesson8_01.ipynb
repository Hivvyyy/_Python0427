{
 "cells": [
  {
   "cell_type": "code",
   "execution_count": 1,
   "metadata": {},
   "outputs": [],
   "source": [
    "# attribute（屬性）－>儲存資料（可供讀寫編輯\n",
    "# self. = 本地值\n",
    "# n = parameter 參數\n",
    "# 呼叫時：n = 引數＝真正的值 valaue \n",
    "\n",
    "\n",
    "\n",
    "class Person():\n",
    "\n",
    "    def __init__(self,n:str):  # 定義時：n = parameter 參數\n",
    "        self.name = n          # 呼叫時：n = 引數＝真正的值 valaue  \n",
    "\n",
    "    def __repr__(self) -> str:\n",
    "        return \"這是Person的實體\""
   ]
  },
  {
   "cell_type": "code",
   "execution_count": 3,
   "metadata": {},
   "outputs": [],
   "source": [
    "# self.\n",
    "# f ”您的名字｛name} “  ---> 字串差捕\n",
    "\n",
    "\n",
    "class Person():\n",
    "\n",
    "    def __init__(self,n:str):\n",
    "        self.name = n\n",
    "\n",
    "    def __repr__(self) -> str:\n",
    "        return f\"這是Person的實體,我的名字是{self.name}\""
   ]
  },
  {
   "cell_type": "code",
   "execution_count": 4,
   "metadata": {},
   "outputs": [
    {
     "name": "stdout",
     "output_type": "stream",
     "text": [
      "徐國堂\n",
      "這是Person的實體,我的名字是徐國堂\n"
     ]
    }
   ],
   "source": [
    "p1 = Person(\"徐國堂\")\n",
    "print(p1.name)\n",
    "print(p1)\n"
   ]
  },
  {
   "cell_type": "code",
   "execution_count": 5,
   "metadata": {},
   "outputs": [
    {
     "name": "stdout",
     "output_type": "stream",
     "text": [
      "Ivy Huang\n",
      "這是Person的實體,我的名字是Ivy Huang\n"
     ]
    }
   ],
   "source": [
    "p2 = Person(\"Ivy Huang\")\n",
    "print(p2.name)\n",
    "print(p2)"
   ]
  },
  {
   "cell_type": "code",
   "execution_count": 7,
   "metadata": {},
   "outputs": [
    {
     "data": {
      "text/plain": [
       "'我的名字是徐國堂'"
      ]
     },
     "execution_count": 7,
     "metadata": {},
     "output_type": "execute_result"
    }
   ],
   "source": [
    "name = \"徐國堂\"\n",
    "\"我的名字是name\"  #只會顯示整串字串\n",
    "\n",
    "#字串差捕\n",
    "\n",
    "f\"我的名字是{name}\"\n"
   ]
  },
  {
   "cell_type": "code",
   "execution_count": 17,
   "metadata": {},
   "outputs": [
    {
     "name": "stdout",
     "output_type": "stream",
     "text": [
      "<class '__main__.Student'>\n",
      "徐國堂\n",
      "96\n",
      "這是Student 的實體，我的名字是96\n"
     ]
    }
   ],
   "source": [
    "#Student 繼承 Person\n",
    "#繼承-->沿用＋進化\n",
    "#物件導向，可快速修正class內的物件\n",
    "\n",
    "\n",
    "#父類別\n",
    "class Person():\n",
    "    def __init__(self,n:str) -> None:\n",
    "        self . name = n  #name=attribute\n",
    "\n",
    "    def __repr__(self) -> str:\n",
    "        return f\"這是Person的實體，我的名字是{self.name}\"\n",
    "    \n",
    "\n",
    "\n",
    "#子類別\n",
    "class Student(Person):\n",
    "     def __init__(self,name:str,scores:int) -> None:\n",
    "         super().__init__(name)    #super\n",
    "         self.scores = scores\n",
    "\n",
    "     def __repr__(self) -> str:\n",
    "        return f\"這是Student 的實體，我的名字是{self.scores}\"\n",
    "\n",
    "s1 = Student(\"徐國堂\",96)\n",
    "print(type(s1))\n",
    "print(s1.name)\n",
    "print(s1.scores)\n",
    "print(s1)\n",
    "\n",
    "\n",
    "        "
   ]
  },
  {
   "cell_type": "code",
   "execution_count": 22,
   "metadata": {},
   "outputs": [
    {
     "name": "stdout",
     "output_type": "stream",
     "text": [
      "<class '__main__.Student'>\n",
      "徐國堂\n",
      "這是Student的實體\n",
      "我的姓名是徐國堂\n",
      "國文：100\n",
      "英文：100\n",
      "數學：100\n",
      "\n"
     ]
    }
   ],
   "source": [
    "#父類別\n",
    "class Person():\n",
    "    def __init__(self,n:str) -> None:\n",
    "        self . name = n  #name=attribute\n",
    "\n",
    "    def __repr__(self) -> str:\n",
    "        return f\"這是Person的實體，我的名字是{self.name}\"\n",
    "    \n",
    "\n",
    "\n",
    "#子類別\n",
    "class Student(Person):\n",
    "     def __init__(self,name:str,chinese:int,english:int,math:int) -> None:\n",
    "         super().__init__(name)    #super\n",
    "         self.chinese = chinese\n",
    "         self.english = english\n",
    "         self.math = math\n",
    "\n",
    "\n",
    "\n",
    "\n",
    "    # message字串可相加 +=\n",
    "    # \\n 換行\n",
    "\n",
    "     def __repr__(self):\n",
    "        message = \"\"\n",
    "        message += \"這是Student的實體\\n\"\n",
    "        message += f\"我的姓名是{self.name}\\n\"\n",
    "        message += f\"國文：{self.chinese}\\n\"\n",
    "        message += f\"英文：{self.english}\\n\"\n",
    "        message += f\"數學：{self.math}\\n\"\n",
    "        return message\n",
    "\n",
    "\n",
    "\n",
    "s1 = Student(\"徐國堂\",96,89,92)  #--->第一種呈現\n",
    "print(type(s1))\n",
    "\n",
    "s1.chinese = 100   #--->可直接更改 attribute\n",
    "s1.english = 100\n",
    "s1.math = 100\n",
    "print(s1.name)\n",
    "print(s1)"
   ]
  },
  {
   "cell_type": "code",
   "execution_count": 26,
   "metadata": {},
   "outputs": [
    {
     "name": "stdout",
     "output_type": "stream",
     "text": [
      "<class '__main__.Student'>\n",
      "徐國堂\n",
      "這是Student的實體\n",
      "我的姓名是徐國堂\n",
      "國文：96\n",
      "英文：89\n",
      "數學：92\n",
      "\n",
      "Ivy\n",
      "這是Student的實體\n",
      "我的姓名是Ivy\n",
      "國文：90\n",
      "英文：90\n",
      "數學：90\n",
      "\n"
     ]
    }
   ],
   "source": [
    "#父類別\n",
    "class Person():\n",
    "    def __init__(self,n:str) -> None:\n",
    "        self . name = n  #name=attribute\n",
    "\n",
    "    def __repr__(self) -> str:\n",
    "        return f\"這是Person的實體，我的名字是{self.name}\"\n",
    "    \n",
    "\n",
    "\n",
    "#子類別\n",
    "class Student(Person):\n",
    "     def __init__(self,name:str,chinese:int,english:int,math:int) -> None:\n",
    "         super().__init__(name)    #super\n",
    "         self.__chinese = chinese    #___鎖定\n",
    "         self.__english = english    #___鎖定\n",
    "         self.__math = math          #___鎖定\n",
    "\n",
    "\n",
    "    # @property 只能讀取以及檢查輸出／入的資料，不能更改\n",
    "\n",
    "     @property\n",
    "     def chinese(self):\n",
    "        return self .__chinese\n",
    "     \n",
    "     @property\n",
    "     def english(self):\n",
    "        return self .__english\n",
    "     \n",
    "     @property\n",
    "     def math(self):\n",
    "        return self .__math\n",
    "     \n",
    "\n",
    "\n",
    "\n",
    "    # message字串可相加 +=\n",
    "    # \\n 換行\n",
    "\n",
    "     def __repr__(self):\n",
    "        message = \"\"\n",
    "        message += \"這是Student的實體\\n\"\n",
    "        message += f\"我的姓名是{self.name}\\n\"\n",
    "        message += f\"國文：{self.chinese}\\n\"\n",
    "        message += f\"英文：{self.english}\\n\"\n",
    "        message += f\"數學：{self.math}\\n\"\n",
    "        return message\n",
    "\n",
    "\n",
    "\n",
    "s1 = Student(\"徐國堂\",96,89,92)  #--->第一種呈現\n",
    "print(type(s1))\n",
    "\n",
    "\n",
    "#若使用@property鎖定將無法在class外更改數值\n",
    "#s1.chinese = 100   --->無法執行\n",
    "#s1.english = 100   --->無法執行\n",
    "#s1.math = 100      --->無法執行\n",
    "print(s1.name)\n",
    "print(s1)\n",
    "\n",
    "\n",
    "\n",
    "\n",
    "s2 = Student(\"Ivy\",90,90,90)\n",
    "print(s2.name)\n",
    "print(s2)"
   ]
  }
 ],
 "metadata": {
  "kernelspec": {
   "display_name": "Python 3",
   "language": "python",
   "name": "python3"
  },
  "language_info": {
   "codemirror_mode": {
    "name": "ipython",
    "version": 3
   },
   "file_extension": ".py",
   "mimetype": "text/x-python",
   "name": "python",
   "nbconvert_exporter": "python",
   "pygments_lexer": "ipython3",
   "version": "3.10.11"
  }
 },
 "nbformat": 4,
 "nbformat_minor": 2
}
