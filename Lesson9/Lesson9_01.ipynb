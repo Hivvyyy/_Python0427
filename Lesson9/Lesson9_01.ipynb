{
 "cells": [
  {
   "cell_type": "code",
   "execution_count": 1,
   "metadata": {},
   "outputs": [
    {
     "name": "stdout",
     "output_type": "stream",
     "text": [
      "<class '_io.TextIOWrapper'>\n",
      "False\n"
     ]
    }
   ],
   "source": [
    "file = open(\"names.txt\",encoding=\"utf-8\")\n",
    "print(type(file))\n",
    "print(file.closed)\n",
    "file.close()"
   ]
  },
  {
   "cell_type": "code",
   "execution_count": 2,
   "metadata": {},
   "outputs": [
    {
     "name": "stdout",
     "output_type": "stream",
     "text": [
      "陳怡伶\n",
      "馮芳如\n",
      "蒙淑惠\n"
     ]
    }
   ],
   "source": [
    "with open(\"names.txt\",encoding=\"utf-8\") as file:\n",
    "    print(file.readline(),end='')\n",
    "    print(file.readline(),end='')\n",
    "    print(file.readline(),end='')"
   ]
  }
 ],
 "metadata": {
  "kernelspec": {
   "display_name": "Python 3",
   "language": "python",
   "name": "python3"
  },
  "language_info": {
   "codemirror_mode": {
    "name": "ipython",
    "version": 3
   },
   "file_extension": ".py",
   "mimetype": "text/x-python",
   "name": "python",
   "nbconvert_exporter": "python",
   "pygments_lexer": "ipython3",
   "version": "3.10.14"
  }
 },
 "nbformat": 4,
 "nbformat_minor": 2
}
